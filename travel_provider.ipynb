{
 "cells": [
  {
   "metadata": {
    "ExecuteTime": {
     "end_time": "2025-04-20T16:33:17.670768Z",
     "start_time": "2025-04-20T16:32:56.601990Z"
    }
   },
   "cell_type": "code",
   "source": "!pip install faker",
   "id": "c52747fcd8daddb",
   "outputs": [
    {
     "name": "stdout",
     "output_type": "stream",
     "text": [
      "Collecting faker\n",
      "  Downloading faker-37.1.0-py3-none-any.whl.metadata (15 kB)\n",
      "Collecting tzdata (from faker)\n",
      "  Downloading tzdata-2025.2-py2.py3-none-any.whl.metadata (1.4 kB)\n",
      "Downloading faker-37.1.0-py3-none-any.whl (1.9 MB)\n",
      "   ---------------------------------------- 0.0/1.9 MB ? eta -:--:--\n",
      "   ---------- ----------------------------- 0.5/1.9 MB 5.6 MB/s eta 0:00:01\n",
      "   ---------------------------------------- 1.9/1.9 MB 6.6 MB/s eta 0:00:00\n",
      "Downloading tzdata-2025.2-py2.py3-none-any.whl (347 kB)\n",
      "Installing collected packages: tzdata, faker\n",
      "Successfully installed faker-37.1.0 tzdata-2025.2\n"
     ]
    }
   ],
   "execution_count": 6
  },
  {
   "metadata": {
    "ExecuteTime": {
     "end_time": "2025-04-20T16:33:30.045972Z",
     "start_time": "2025-04-20T16:33:29.654781Z"
    }
   },
   "cell_type": "code",
   "source": [
    "from travel_provider import travel_provider\n",
    "from typing import List, Dict, Any\n",
    "\n",
    "class TravelAgent:\n",
    "    def __init__(self, name: str):\n",
    "        self.name = name\n",
    "        self.goals: List[str] = []\n",
    "        self.knowledge_base: Dict[str, Any] = {}\n",
    "\n",
    "    def set_goal(self, goal: str):\n",
    "        \"\"\"Agency: Defining objectives\"\"\"\n",
    "        self.goals.append(goal)\n",
    "        print(f\"Goal set: {goal}\")\n",
    "\n",
    "    def update_knowledge(self, departure: str, destination: str):\n",
    "        \"\"\"Agency: Acquiring information from an API, and scoring\"\"\"\n",
    "        # Simulating API call to get flight options\n",
    "        response = travel_provider.flight_lookup(departure, destination)\n",
    "        if response['status_code'] == 200:\n",
    "            flight_options = response['flight_options']\n",
    "            # Simple scoring based on price (lower is better)\n",
    "            scored_options = [\n",
    "                {**flight, 'score': 1000 / flight['price']}\n",
    "                for flight in flight_options\n",
    "            ]\n",
    "            self.knowledge_base['flight_options'] = scored_options\n",
    "            print(f\"Knowledge updated with {len(scored_options)} flight options\")\n",
    "        else:\n",
    "            print(\"Failed to fetch flight information\")\n",
    "\n",
    "    def make_decision(self) -> Dict[str, Any]:\n",
    "        \"\"\"Autonomy: Independent decision-making\"\"\"\n",
    "        if 'flight_options' not in self.knowledge_base:\n",
    "            raise ValueError(\"No flight options available for decision-making\")\n",
    "        best_option = max(self.knowledge_base['flight_options'], key=lambda x: x['score'])\n",
    "        print(f\"Decision made: Selected flight {best_option['airline']}\")\n",
    "        return best_option\n",
    "\n",
    "    def book_travel(self, departure: str, destination: str):\n",
    "        \"\"\"Agency: Execute action on behalf of user\"\"\"\n",
    "        print(f\"Agent {self.name} is booking travel from {departure} to {destination}\")\n",
    "\n",
    "        self.set_goal(f\"Book flight from {departure} to {destination}\")\n",
    "        self.update_knowledge(departure, destination)\n",
    "\n",
    "        try:\n",
    "            best_flight = self.make_decision()\n",
    "            # Simulating booking process\n",
    "            booking_confirmation = f\"BOOK-{best_flight['airline']}-{self.name.upper()}\"\n",
    "            self.knowledge_base['booking_confirmation'] = booking_confirmation\n",
    "            print(f\"Booking confirmed: {booking_confirmation}\")\n",
    "        except Exception as e:\n",
    "            print(f\"Booking failed: {str(e)}\")\n",
    "\n",
    "        return self\n",
    "\n",
    "# Usage example\n",
    "if __name__ == \"__main__\":\n",
    "    agent = TravelAgent(\"TripPlanner\")\n",
    "    agent.book_travel(\"SAN\", \"SEA\")\n",
    "    print(\"\\n----------- Final Agent State: -----------\")\n",
    "    print(f\"Name: {agent.name}\")\n",
    "    print(f\"Goals: {agent.goals}\")\n",
    "    print(f\"Knowledge Base: {agent.knowledge_base}\")\n",
    "    if 'booking_confirmation' in agent.knowledge_base:\n",
    "        print(f\"Booking Confirmation: {agent.knowledge_base['booking_confirmation']}\")"
   ],
   "id": "fbc121e30a2defb3",
   "outputs": [
    {
     "name": "stdout",
     "output_type": "stream",
     "text": [
      "Agent TripPlanner is booking travel from SAN to SEA\n",
      "Goal set: Book flight from SAN to SEA\n",
      "Knowledge updated with 3 flight options\n",
      "Decision made: Selected flight American Airlines\n",
      "Booking confirmed: BOOK-American Airlines-TRIPPLANNER\n",
      "\n",
      "----------- Final Agent State: -----------\n",
      "Name: TripPlanner\n",
      "Goals: ['Book flight from SAN to SEA']\n",
      "Knowledge Base: {'flight_options': [{'airline': 'Southwest', 'departure_airport': 'SAN', 'destination_airport': 'SEA', 'flight_number': 'JB9536', 'departure_time': datetime.datetime(2025, 5, 14, 1, 21, 38), 'arrival_time': datetime.datetime(2025, 5, 18, 23, 5, 43), 'price': 203.35, 'score': 4.917629702483403}, {'airline': 'American Airlines', 'departure_airport': 'SAN', 'destination_airport': 'SEA', 'flight_number': 'SW7324', 'departure_time': datetime.datetime(2025, 5, 7, 12, 52, 13), 'arrival_time': datetime.datetime(2025, 5, 7, 13, 13, 14), 'price': 286.01, 'score': 3.496381245411}, {'airline': 'American Airlines', 'departure_airport': 'SAN', 'destination_airport': 'SEA', 'flight_number': 'JB7492', 'departure_time': datetime.datetime(2025, 5, 19, 7, 48, 1), 'arrival_time': datetime.datetime(2025, 5, 19, 11, 31, 18), 'price': 173.36, 'score': 5.768343331795108}], 'booking_confirmation': 'BOOK-American Airlines-TRIPPLANNER'}\n",
      "Booking Confirmation: BOOK-American Airlines-TRIPPLANNER\n"
     ]
    }
   ],
   "execution_count": 7
  }
 ],
 "metadata": {
  "kernelspec": {
   "display_name": "Python 3",
   "language": "python",
   "name": "python3"
  },
  "language_info": {
   "codemirror_mode": {
    "name": "ipython",
    "version": 2
   },
   "file_extension": ".py",
   "mimetype": "text/x-python",
   "name": "python",
   "nbconvert_exporter": "python",
   "pygments_lexer": "ipython2",
   "version": "2.7.6"
  }
 },
 "nbformat": 4,
 "nbformat_minor": 5
}
